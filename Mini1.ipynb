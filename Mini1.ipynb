{
 "cells": [
  {
   "cell_type": "code",
   "execution_count": 3,
   "id": "8c889899",
   "metadata": {},
   "outputs": [],
   "source": [
    "import tkinter as tk\n",
    "\n",
    "items = []  # list to store (product, price, qty)\n",
    "\n",
    "def add_item():\n",
    "    product = entry_product.get()\n",
    "    price = float(entry_price.get())\n",
    "    qty = int(entry_qty.get())\n",
    "    items.append((product, price, qty))\n",
    "    listbox.insert(tk.END, f\"{product} x{qty} = ₹{price*qty}\")\n",
    "    entry_product.delete(0, tk.END)\n",
    "    entry_price.delete(0, tk.END)\n",
    "    entry_qty.delete(0, tk.END)\n",
    "\n",
    "def generate_bill():\n",
    "    total = sum(price*qty for _, price, qty in items)\n",
    "    output_label.config(text=f\"Total Bill: ₹{total:.2f}\")\n",
    "\n",
    "root = tk.Tk()\n",
    "root.title(\"🛒 Retail Billing System\")\n",
    "root.geometry(\"400x400\")\n",
    "\n",
    "tk.Label(root, text=\"Product:\").pack()\n",
    "entry_product = tk.Entry(root)\n",
    "entry_product.pack()\n",
    "\n",
    "tk.Label(root, text=\"Price:\").pack()\n",
    "entry_price = tk.Entry(root)\n",
    "entry_price.pack()\n",
    "\n",
    "tk.Label(root, text=\"Quantity:\").pack()\n",
    "entry_qty = tk.Entry(root)\n",
    "entry_qty.pack()\n",
    "\n",
    "tk.Button(root, text=\"Add Item\", command=add_item, bg=\"lightblue\").pack(pady=5)\n",
    "listbox = tk.Listbox(root, width=40, height=8)\n",
    "listbox.pack()\n",
    "\n",
    "tk.Button(root, text=\"Generate Bill\", command=generate_bill, bg=\"lightgreen\").pack(pady=10)\n",
    "output_label = tk.Label(root, text=\"\", font=(\"Arial\", 12))\n",
    "output_label.pack()\n",
    "\n",
    "root.mainloop()\n"
   ]
  }
 ],
 "metadata": {
  "kernelspec": {
   "display_name": "Python 3 (ipykernel)",
   "language": "python",
   "name": "python3"
  },
  "language_info": {
   "codemirror_mode": {
    "name": "ipython",
    "version": 3
   },
   "file_extension": ".py",
   "mimetype": "text/x-python",
   "name": "python",
   "nbconvert_exporter": "python",
   "pygments_lexer": "ipython3",
   "version": "3.10.9"
  }
 },
 "nbformat": 4,
 "nbformat_minor": 5
}
